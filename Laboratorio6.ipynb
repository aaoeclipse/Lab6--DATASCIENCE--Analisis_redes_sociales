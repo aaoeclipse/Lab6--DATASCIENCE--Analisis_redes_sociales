{
  "nbformat": 4,
  "nbformat_minor": 0,
  "metadata": {
    "colab": {
      "name": "Laboratorio6.ipynb",
      "version": "0.3.2",
      "provenance": [],
      "collapsed_sections": []
    },
    "kernelspec": {
      "name": "python3",
      "display_name": "Python 3"
    }
  },
  "cells": [
    {
      "metadata": {
        "id": "wb0ifcKNV0MN",
        "colab_type": "text"
      },
      "cell_type": "markdown",
      "source": [
        "# Laboratorio 6 - Analisis de Redes Sociales\n",
        "# Introduccion"
      ]
    },
    {
      "metadata": {
        "id": "gRuIA_L7pyGv",
        "colab_type": "text"
      },
      "cell_type": "markdown",
      "source": [
        "## Problema 1\n",
        "Extraiga los datos relacionados con los temblores en Guatemala, puede utilizar cualquier red social, <br>\n",
        "a la que se tenga acceso, y pueden extraerse datos de varias. Por ejemplo si extrae datos de twitter <br>\n",
        "podría utilizar el hashtag #temblorgt <br>\n",
        "* Explore  los  datos  que  extraiga  y  descubra  conocimiento, tendencias y elementos interesantes."
      ]
    },
    {
      "metadata": {
        "colab_type": "text",
        "id": "G18o746TqJTV"
      },
      "cell_type": "markdown",
      "source": [
        "## Problema 2\n",
        "Extraiga los datos relacionados con el  tráfico en la  ciudad de Guatemala, puede utilizar cualquier <br>\n",
        "red social, a la que se tenga acceso, y pueden extraerse datos de varias. Por ejemplo si extrae datos <br>\n",
        "de twitter podría utilizar los hashtag #TraficoGTo #TransitoGT <br>\n",
        "* Explore los datos que extraiga y descubra conocimiento, tendencias y elementos interesantes. "
      ]
    },
    {
      "metadata": {
        "colab_type": "text",
        "id": "Llwg3oNsqKKU"
      },
      "cell_type": "markdown",
      "source": [
        "\n",
        "## Problema 3\n",
        "Extraiga  los  datos de las redes  sociales de  una  empresa,  una  campaña de  marketing de  una <br>\n",
        "empresa o el lanzamiento  de  un  producto. <br>\n",
        "Agregue  la  descripción de  la  empresa,  campaña o producto y analice las interacciones de los clientes <br>\n",
        "con ellos, determine el éxito de la campaña,  producto o empresa en las interacciones de los clientes<br>\n",
        "\n",
        "\n",
        "###Empresa\n",
        "Se estudiara el desempeño para transmitir y el impacto que tiene Leag Of Leagends internacionalmente con el  #Worlds2018, ya que estan a punto de tener la final.<br>\n",
        "ya que estan a punto de entrar a la final del campeonato 2018"
      ]
    },
    {
      "metadata": {
        "id": "cudVoxiEqwK5",
        "colab_type": "text"
      },
      "cell_type": "markdown",
      "source": [
        "# Configuraciones Iniciales"
      ]
    },
    {
      "metadata": {
        "id": "UaPgdtHR5YFx",
        "colab_type": "code",
        "outputId": "89647dac-cbdf-4664-fe18-2afae490cb93",
        "colab": {
          "base_uri": "https://localhost:8080/",
          "height": 68
        }
      },
      "cell_type": "code",
      "source": [
        "!pip install twitter\n",
        "import pandas as pd\n",
        "import numpy as np\n",
        "import matplotlib.pyplot as plt\n",
        "import re\n",
        "import io \n",
        "from nltk.corpus import stopwords \n",
        "from nltk.tokenize import word_tokenize\n",
        "from nltk import ngrams\n",
        "# Load library\n",
        "from nltk.corpus import stopwords\n",
        "import os\n",
        "# You will have to download the set of stop words the first time\n",
        "import nltk\n",
        "import operator \n",
        "nltk.download('stopwords')\n",
        "stop_words = set(stopwords.words('spanish')) "
      ],
      "execution_count": 5,
      "outputs": [
        {
          "output_type": "stream",
          "text": [
            "Requirement already satisfied: twitter in /usr/local/lib/python3.6/dist-packages (1.18.0)\n",
            "[nltk_data] Downloading package stopwords to /root/nltk_data...\n",
            "[nltk_data]   Package stopwords is already up-to-date!\n"
          ],
          "name": "stdout"
        }
      ]
    },
    {
      "metadata": {
        "id": "JFXCjUxmqsZ6",
        "colab_type": "text"
      },
      "cell_type": "markdown",
      "source": [
        "# Solucion problema 1"
      ]
    },
    {
      "metadata": {
        "id": "SyAW0E9orI3B",
        "colab_type": "text"
      },
      "cell_type": "markdown",
      "source": [
        "## Descarga de Informacion de Twitter"
      ]
    },
    {
      "metadata": {
        "id": "UaEbYEFBl7PR",
        "colab_type": "code",
        "colab": {}
      },
      "cell_type": "code",
      "source": [
        "from twitter import Twitter, OAuth                                                                                                                                                                                                         \n",
        "\n",
        "ACCESS_TOKEN = '339324943-grMlvtueGSOgmP4L1ycn0HylyfAtfYkqOlbNmpsz'\n",
        "ACCESS_SECRET = 'i2LECt5Gfl8oTyGxgwjYyVdxLMbHk1Qqj6wrSulK28KQf'\n",
        "CONSUMER_KEY = 'xmdPRdhFjTEmYGvL8nCNe18bv'\n",
        "CONSUMER_SECRET = 'BW2o4ndwdPE9KecS8YpQe5kSSJmIIe77ZqifYcDW7VLxrfjYtV'\n",
        "\n",
        "oauth = OAuth(ACCESS_TOKEN, ACCESS_SECRET, CONSUMER_KEY, CONSUMER_SECRET)\n",
        "t = Twitter(auth=oauth)\n"
      ],
      "execution_count": 0,
      "outputs": []
    },
    {
      "metadata": {
        "id": "cxNTpYDl8YCS",
        "colab_type": "code",
        "colab": {
          "base_uri": "https://localhost:8080/",
          "height": 666
        },
        "outputId": "ec3bf5be-eae3-47d5-93d6-18022cc0a906"
      },
      "cell_type": "code",
      "source": [
        "query = t.search.tweets(q='%23temblorgt')\n",
        "\n",
        "for s in query['statuses']:\n",
        "    print(s['created_at'], s['text'], '\\n')"
      ],
      "execution_count": 7,
      "outputs": [
        {
          "output_type": "stream",
          "text": [
            "Sat Oct 27 14:30:23 +0000 2018 🚨 Efemérides #TemblorGT 39 Años\n",
            "27/10/1979 — Magnitud: 6.8, Profundidad: 58km; #Guatemala\n",
            "🔍 https://t.co/rmrwx3Nwxt \n",
            "\n",
            "Sat Oct 27 13:00:26 +0000 2018 🚨 Efemérides #TemblorGT 39 Años\n",
            "27/10/1979 — Magnitud: 6.6, Profundidad: 65km; #Guatemala\n",
            "🔍 https://t.co/f1UxyyNAL2 \n",
            "\n",
            "Sat Oct 27 06:14:24 +0000 2018 #Temblorgt ? \n",
            "\n",
            "Fri Oct 26 23:43:06 +0000 2018 RT @prensa_libre: #TemblorGT | Actualización. Sismo fue de magnitud 4.2 con epicentro a 250.4 km dirección Este-Noreste de Izabal. https://… \n",
            "\n",
            "Fri Oct 26 22:56:49 +0000 2018 🇬🇹➡#Temblor 4.1⚡ ⏱15:57 Pm H/Guatemala🇬🇹\n",
            "🔶#Champerico a 136 Km al SurOeste \n",
            "D. de #Retalhuleu\n",
            "#Guatemala🇬🇹… https://t.co/garXf3eseo \n",
            "\n",
            "Fri Oct 26 22:24:07 +0000 2018 RT @prensa_libre: #TemblorGT | Actualización. Sismo fue de magnitud 4.2 con epicentro a 250.4 km dirección Este-Noreste de Izabal. https://… \n",
            "\n",
            "Fri Oct 26 19:18:43 +0000 2018 #TemblorGT | Actualización. Sismo fue de magnitud 4.2 con epicentro a 250.4 km dirección Este-Noreste de Izabal. https://t.co/MEgakrU6Ia \n",
            "\n",
            "Fri Oct 26 19:16:54 +0000 2018 A las 12:24 horas se registró un #temblorGt de magnitud 4.2 con epicentro a 250.4 kilómetros en dirección Este-NorE… https://t.co/jXQTUNNizi \n",
            "\n",
            "Fri Oct 26 19:03:48 +0000 2018 RT @prensa_libre: #TemblorGT | Un sismo con epicentro a 11 kilómetros al suroeste de Puerto Barrios y magnitud de 4.1 se registró a las 12:… \n",
            "\n",
            "Fri Oct 26 19:02:39 +0000 2018 RT @prensa_libre: #TemblorGT | Un sismo con epicentro a 11 kilómetros al suroeste de Puerto Barrios y magnitud de 4.1 se registró a las 12:… \n",
            "\n",
            "Fri Oct 26 18:53:03 +0000 2018 RT @prensa_libre: #TemblorGT | Un sismo con epicentro a 11 kilómetros al suroeste de Puerto Barrios y magnitud de 4.1 se registró a las 12:… \n",
            "\n",
            "Fri Oct 26 18:52:54 +0000 2018 RT @prensa_libre: #TemblorGT | Un sismo con epicentro a 11 kilómetros al suroeste de Puerto Barrios y magnitud de 4.1 se registró a las 12:… \n",
            "\n",
            "Fri Oct 26 18:52:25 +0000 2018 #TemblorGT | Un sismo con epicentro a 11 kilómetros al suroeste de Puerto Barrios y magnitud de 4.1 se registró a l… https://t.co/S2RHwSxwok \n",
            "\n",
            "Thu Oct 25 10:06:43 +0000 2018 Ve! Nadie dice algo del #TemblorGT a las 3:55. \n",
            "\n",
            "Thu Oct 25 04:12:55 +0000 2018 RT @carolitacar1491: #temblorgt y este señor me sigue #acosando #guatemala #ayuda https://t.co/cd265rYYhc \n",
            "\n"
          ],
          "name": "stdout"
        }
      ]
    },
    {
      "metadata": {
        "id": "8w746plcqlSN",
        "colab_type": "text"
      },
      "cell_type": "markdown",
      "source": [
        "## Limpieza de datos\n"
      ]
    },
    {
      "metadata": {
        "id": "2qzjDrw2ri2X",
        "colab_type": "text"
      },
      "cell_type": "markdown",
      "source": [
        "#### Volviendo Todo en Minuscula"
      ]
    },
    {
      "metadata": {
        "id": "H_EKOYsTritG",
        "colab_type": "code",
        "colab": {}
      },
      "cell_type": "code",
      "source": [
        "for s in query['statuses']:\n",
        "  s['text'] = s['text'].lower()"
      ],
      "execution_count": 0,
      "outputs": []
    },
    {
      "metadata": {
        "id": "91gFT6S0wCUs",
        "colab_type": "text"
      },
      "cell_type": "markdown",
      "source": [
        "#### Quitar los caracteres especiales que aparecen como “#”,”@” o los apóstrofes."
      ]
    },
    {
      "metadata": {
        "id": "J8G-kyIH7Jnf",
        "colab_type": "code",
        "colab": {}
      },
      "cell_type": "code",
      "source": [
        "for s in query['statuses']:\n",
        "  s['text'] = re.sub(r\"@\", \"\", s['text'])\n",
        "  s['text'] = re.sub(r\"#\", \"\", s['text'])  \n",
        "  s['text'] = re.sub(r\"\\'\", \"\", s['text'])  \n",
        "  s['text'] = re.sub(r\"—\", \"\", s['text'])\n",
        "  s['text'] = re.sub(r'🚨',\"\",s['text'])\n",
        "  s['text'] = re.sub(r'🔍',\"\",s['text'])  "
      ],
      "execution_count": 0,
      "outputs": []
    },
    {
      "metadata": {
        "id": "bEJPYtYQ8BtK",
        "colab_type": "text"
      },
      "cell_type": "markdown",
      "source": [
        "#### Quitar las url"
      ]
    },
    {
      "metadata": {
        "id": "W3DVZ3lN8B4t",
        "colab_type": "code",
        "colab": {}
      },
      "cell_type": "code",
      "source": [
        "for s in query['statuses']:\n",
        "  s['text'] = re.sub(r\"(http|ftp|https)[:A-Za-z//.0-9_]*$\", \"\", s['text']) "
      ],
      "execution_count": 0,
      "outputs": []
    },
    {
      "metadata": {
        "id": "VU8U-mgAVzbX",
        "colab_type": "text"
      },
      "cell_type": "markdown",
      "source": [
        "#### Quitando Stopwords"
      ]
    },
    {
      "metadata": {
        "id": "Klj1HNFtVb5W",
        "colab_type": "code",
        "colab": {}
      },
      "cell_type": "code",
      "source": [
        "for s in query['statuses']:\n",
        "#   s['text'] = s['text'].split()\n",
        "  s['text'] = ' '.join([word for word in s['text'].split() if word not in stop_words])\n",
        "\n",
        "# query['statuses'] = query['statuses'].split(' ').apply(lambda x: ' '.join(k for k in x if k not in stop_words))\n",
        "# dataset['reviewtext'] = dataset['reviewtext'].str.split(' ').apply(lambda x: ' '.join(k for k in x if k not in stop_words))"
      ],
      "execution_count": 0,
      "outputs": []
    },
    {
      "metadata": {
        "id": "w9RJAePAv6l_",
        "colab_type": "code",
        "colab": {
          "base_uri": "https://localhost:8080/",
          "height": 292
        },
        "outputId": "9852ffc8-3180-42fe-a5cb-bad843232b39"
      },
      "cell_type": "code",
      "source": [
        "for s in query['statuses']:\n",
        "  print(s['text'])"
      ],
      "execution_count": 12,
      "outputs": [
        {
          "output_type": "stream",
          "text": [
            "efemérides temblorgt 39 años 27/10/1979 magnitud: 6.8, profundidad: 58km; guatemala\n",
            "efemérides temblorgt 39 años 27/10/1979 magnitud: 6.6, profundidad: 65km; guatemala\n",
            "temblorgt ?\n",
            "rt prensa_libre: temblorgt | actualización. sismo magnitud 4.2 epicentro 250.4 km dirección este-noreste izabal. https://…\n",
            "🇬🇹➡temblor 4.1⚡ ⏱15:57 pm h/guatemala🇬🇹 🔶champerico 136 km suroeste d. retalhuleu guatemala🇬🇹…\n",
            "rt prensa_libre: temblorgt | actualización. sismo magnitud 4.2 epicentro 250.4 km dirección este-noreste izabal. https://…\n",
            "temblorgt | actualización. sismo magnitud 4.2 epicentro 250.4 km dirección este-noreste izabal.\n",
            "12:24 horas registró temblorgt magnitud 4.2 epicentro 250.4 kilómetros dirección este-nore…\n",
            "rt prensa_libre: temblorgt | sismo epicentro 11 kilómetros suroeste puerto barrios magnitud 4.1 registró 12:…\n",
            "rt prensa_libre: temblorgt | sismo epicentro 11 kilómetros suroeste puerto barrios magnitud 4.1 registró 12:…\n",
            "rt prensa_libre: temblorgt | sismo epicentro 11 kilómetros suroeste puerto barrios magnitud 4.1 registró 12:…\n",
            "rt prensa_libre: temblorgt | sismo epicentro 11 kilómetros suroeste puerto barrios magnitud 4.1 registró 12:…\n",
            "temblorgt | sismo epicentro 11 kilómetros suroeste puerto barrios magnitud 4.1 registró l…\n",
            "ve! nadie dice temblorgt 3:55.\n",
            "rt carolitacar1491: temblorgt señor sigue acosando guatemala ayuda\n"
          ],
          "name": "stdout"
        }
      ]
    },
    {
      "metadata": {
        "id": "K0uAtrIf9P3j",
        "colab_type": "text"
      },
      "cell_type": "markdown",
      "source": [
        "## Descubriendo Informacion\n",
        "Se crea un diccionario con las palabras utilizadas y se van contando cuantas veces se repiten <br>\n",
        "\n",
        "#### Diccionario"
      ]
    },
    {
      "metadata": {
        "id": "qZGPHa6l95V5",
        "colab_type": "code",
        "colab": {}
      },
      "cell_type": "code",
      "source": [
        "palabrasMasComunes = {}"
      ],
      "execution_count": 0,
      "outputs": []
    },
    {
      "metadata": {
        "id": "pOFImXz4-K8k",
        "colab_type": "code",
        "colab": {}
      },
      "cell_type": "code",
      "source": [
        "def word_count(str, dictionary):\n",
        "  for word in str.split():\n",
        "    if word in dictionary:\n",
        "      dictionary[word] += 1\n",
        "    else:\n",
        "      dictionary[word] = 1\n",
        "  return dictionary"
      ],
      "execution_count": 0,
      "outputs": []
    },
    {
      "metadata": {
        "id": "Qw75Raj7--rZ",
        "colab_type": "code",
        "colab": {}
      },
      "cell_type": "code",
      "source": [
        "for s in query['statuses']:\n",
        "  palabrasMasComunes = word_count(s['text'], palabrasMasComunes)"
      ],
      "execution_count": 0,
      "outputs": []
    },
    {
      "metadata": {
        "id": "yMiLFqwvnH5k",
        "colab_type": "code",
        "colab": {}
      },
      "cell_type": "code",
      "source": [
        "# for palabra in palabrasMasComunes:\n",
        "  "
      ],
      "execution_count": 0,
      "outputs": []
    },
    {
      "metadata": {
        "id": "xI02JaVL_NXP",
        "colab_type": "text"
      },
      "cell_type": "markdown",
      "source": [
        "#### Palabras mas Comunes"
      ]
    },
    {
      "metadata": {
        "id": "nggmPsJb_Mlg",
        "colab_type": "code",
        "colab": {
          "base_uri": "https://localhost:8080/",
          "height": 1003
        },
        "outputId": "d5a976fe-e528-43e9-c26f-8552e5863969"
      },
      "cell_type": "code",
      "source": [
        "for key in palabrasMasComunes:\n",
        "    print (\"%s: %s\" % (key, palabrasMasComunes[key]))"
      ],
      "execution_count": 16,
      "outputs": [
        {
          "output_type": "stream",
          "text": [
            "efemérides: 2\n",
            "temblorgt: 14\n",
            "39: 2\n",
            "años: 2\n",
            "27/10/1979: 2\n",
            "magnitud:: 2\n",
            "6.8,: 1\n",
            "profundidad:: 2\n",
            "58km;: 1\n",
            "guatemala: 3\n",
            "6.6,: 1\n",
            "65km;: 1\n",
            "?: 1\n",
            "rt: 7\n",
            "prensa_libre:: 6\n",
            "|: 8\n",
            "actualización.: 3\n",
            "sismo: 8\n",
            "magnitud: 9\n",
            "4.2: 4\n",
            "epicentro: 9\n",
            "250.4: 4\n",
            "km: 4\n",
            "dirección: 4\n",
            "este-noreste: 3\n",
            "izabal.: 3\n",
            "https://…: 2\n",
            "🇬🇹➡temblor: 1\n",
            "4.1⚡: 1\n",
            "⏱15:57: 1\n",
            "pm: 1\n",
            "h/guatemala🇬🇹: 1\n",
            "🔶champerico: 1\n",
            "136: 1\n",
            "suroeste: 6\n",
            "d.: 1\n",
            "retalhuleu: 1\n",
            "guatemala🇬🇹…: 1\n",
            "12:24: 1\n",
            "horas: 1\n",
            "registró: 6\n",
            "kilómetros: 6\n",
            "este-nore…: 1\n",
            "11: 5\n",
            "puerto: 5\n",
            "barrios: 5\n",
            "4.1: 5\n",
            "12:…: 4\n",
            "l…: 1\n",
            "ve!: 1\n",
            "nadie: 1\n",
            "dice: 1\n",
            "3:55.: 1\n",
            "carolitacar1491:: 1\n",
            "señor: 1\n",
            "sigue: 1\n",
            "acosando: 1\n",
            "ayuda: 1\n"
          ],
          "name": "stdout"
        }
      ]
    },
    {
      "metadata": {
        "id": "xrvbKgfVpnR6",
        "colab_type": "text"
      },
      "cell_type": "markdown",
      "source": [
        "#### Ordenamos la lista de mayor a menor"
      ]
    },
    {
      "metadata": {
        "id": "GGkynUceKu6W",
        "colab_type": "code",
        "colab": {}
      },
      "cell_type": "code",
      "source": [
        "def keyInOrder(listName, number):\n",
        "  keys = list(sorted(listName, key=listName.__getitem__, reverse=True))\n",
        "  keys = keys[:number]\n",
        "  firstFew = {x:listName[x] for x in keys}\n",
        "  return firstFew"
      ],
      "execution_count": 0,
      "outputs": []
    },
    {
      "metadata": {
        "id": "SsNZipTTyIGk",
        "colab_type": "code",
        "colab": {}
      },
      "cell_type": "code",
      "source": [
        "palabrasOrdenadas = {}"
      ],
      "execution_count": 0,
      "outputs": []
    },
    {
      "metadata": {
        "id": "Fr3CdtS8yFGC",
        "colab_type": "code",
        "colab": {}
      },
      "cell_type": "code",
      "source": [
        "for key, value in sorted(palabrasMasComunes.items(), key=operator.itemgetter(1), reverse=True):\n",
        "  palabrasOrdenadas[key] = int(value)"
      ],
      "execution_count": 0,
      "outputs": []
    },
    {
      "metadata": {
        "id": "cx5jbgZPxnJa",
        "colab_type": "code",
        "outputId": "7d6a1610-8c66-42cd-9807-0ed666e642c0",
        "colab": {
          "base_uri": "https://localhost:8080/",
          "height": 54
        }
      },
      "cell_type": "code",
      "source": [
        "# sorted(palabrasMasComunes.items(), key=operator.itemgetter(1), reverse=True)\n",
        "print(palabrasOrdenadas)"
      ],
      "execution_count": 20,
      "outputs": [
        {
          "output_type": "stream",
          "text": [
            "{'temblorgt': 14, 'magnitud': 9, 'epicentro': 9, '|': 8, 'sismo': 8, 'rt': 7, 'prensa_libre:': 6, 'suroeste': 6, 'registró': 6, 'kilómetros': 6, '11': 5, 'puerto': 5, 'barrios': 5, '4.1': 5, '4.2': 4, '250.4': 4, 'km': 4, 'dirección': 4, '12:…': 4, 'guatemala': 3, 'actualización.': 3, 'este-noreste': 3, 'izabal.': 3, 'efemérides': 2, '39': 2, 'años': 2, '27/10/1979': 2, 'magnitud:': 2, 'profundidad:': 2, 'https://…': 2, '6.8,': 1, '58km;': 1, '6.6,': 1, '65km;': 1, '?': 1, '🇬🇹➡temblor': 1, '4.1⚡': 1, '⏱15:57': 1, 'pm': 1, 'h/guatemala🇬🇹': 1, '🔶champerico': 1, '136': 1, 'd.': 1, 'retalhuleu': 1, 'guatemala🇬🇹…': 1, '12:24': 1, 'horas': 1, 'este-nore…': 1, 'l…': 1, 've!': 1, 'nadie': 1, 'dice': 1, '3:55.': 1, 'carolitacar1491:': 1, 'señor': 1, 'sigue': 1, 'acosando': 1, 'ayuda': 1}\n"
          ],
          "name": "stdout"
        }
      ]
    },
    {
      "metadata": {
        "id": "OhrQK8ZYpn_D",
        "colab_type": "code",
        "colab": {}
      },
      "cell_type": "code",
      "source": [
        "keys = keyInOrder(palabrasOrdenadas, 10)"
      ],
      "execution_count": 0,
      "outputs": []
    },
    {
      "metadata": {
        "id": "qZGOKskbzLMY",
        "colab_type": "code",
        "outputId": "805767c6-5556-4b3a-c4d2-f3c3b4ec5934",
        "colab": {
          "base_uri": "https://localhost:8080/",
          "height": 54
        }
      },
      "cell_type": "code",
      "source": [
        "print (keys)"
      ],
      "execution_count": 22,
      "outputs": [
        {
          "output_type": "stream",
          "text": [
            "{'temblorgt': 14, 'magnitud': 9, 'epicentro': 9, '|': 8, 'sismo': 8, 'rt': 7, 'prensa_libre:': 6, 'suroeste': 6, 'registró': 6, 'kilómetros': 6}\n"
          ],
          "name": "stdout"
        }
      ]
    },
    {
      "metadata": {
        "id": "RpTxWtbNBiLI",
        "colab_type": "text"
      },
      "cell_type": "markdown",
      "source": [
        "#### Representacion en Graficas"
      ]
    },
    {
      "metadata": {
        "id": "3l0t1DHXBqhu",
        "colab_type": "code",
        "colab": {
          "base_uri": "https://localhost:8080/",
          "height": 379
        },
        "outputId": "da9552f9-8afb-40bc-d032-7215979062fd"
      },
      "cell_type": "code",
      "source": [
        "plt.bar(keys.keys(), keys.values(), color='b')\n",
        "plt.title(\"Palabras Mas Comunes\")"
      ],
      "execution_count": 23,
      "outputs": [
        {
          "output_type": "execute_result",
          "data": {
            "text/plain": [
              "Text(0.5,1,'Palabras Mas Comunes')"
            ]
          },
          "metadata": {
            "tags": []
          },
          "execution_count": 23
        },
        {
          "output_type": "display_data",
          "data": {
            "image/png": "[encoded data removed]",
            "text/plain": [
              "<matplotlib.figure.Figure at 0x7f9c6f29f860>"
            ]
          },
          "metadata": {
            "tags": []
          }
        }
      ]
    },
    {
      "metadata": {
        "id": "hvCqjP5f_0pT",
        "colab_type": "text"
      },
      "cell_type": "markdown",
      "source": [
        "## Conclusiones Problema 1\n",
        "\n",
        "Viendo las palabras mas comunes: **temblorgt**, **guatemala**, **efemérides**, **años**, **magnitud** <br>\n",
        "Podemos decir que las emociones de los que estan escribiendo son negativas y preocupantes, informatica"
      ]
    },
    {
      "metadata": {
        "colab_type": "text",
        "id": "Wn9OMEjkAPJq"
      },
      "cell_type": "markdown",
      "source": [
        "# Solucion problema 2\n"
      ]
    },
    {
      "metadata": {
        "colab_type": "text",
        "id": "C6bxLtHrF4oF"
      },
      "cell_type": "markdown",
      "source": [
        "## Descarga de Informacion de Twitter\n",
        "Se va a buscar twitts que tengan los hashtags #TraficoGTo y #TransitoGT"
      ]
    },
    {
      "metadata": {
        "colab_type": "code",
        "id": "6UtzjQ3VF4oG",
        "colab": {}
      },
      "cell_type": "code",
      "source": [
        "##TraficoGTo #TransitoGT\n",
        "query1 = t.search.tweets(q='%23PrecaucionGT')\n",
        "query2 = t.search.tweets(q='%23TransitoGT')"
      ],
      "execution_count": 0,
      "outputs": []
    },
    {
      "metadata": {
        "id": "UIi6fw3xnBsA",
        "colab_type": "code",
        "colab": {
          "base_uri": "https://localhost:8080/",
          "height": 989
        },
        "outputId": "9e19c632-90f4-48b3-9e00-cb698572db62"
      },
      "cell_type": "code",
      "source": [
        "\n",
        "for s1 in query1['statuses']:\n",
        "    print(s1['created_at'], s1['text'], '\\n')\n",
        "    "
      ],
      "execution_count": 25,
      "outputs": [
        {
          "output_type": "stream",
          "text": [
            "Sun Oct 28 00:22:26 +0000 2018 RT @amilcarmontejo: #PrecaucionGT por carro averiado en Viaducto Villa Linda, sobre Periférico sur 17 calle zona 7.\n",
            "\n",
            "Informa Eduardo Mó que… \n",
            "\n",
            "Sat Oct 27 23:22:02 +0000 2018 RT @amilcarmontejo: #PrecaucionGT por carro averiado en Viaducto Villa Linda, sobre Periférico sur 17 calle zona 7.\n",
            "\n",
            "Informa Eduardo Mó que… \n",
            "\n",
            "Sat Oct 27 23:14:49 +0000 2018 #PrecaucionGT por carro averiado en Viaducto Villa Linda, sobre Periférico sur 17 calle zona 7.\n",
            "\n",
            "Informa Eduardo Mó… https://t.co/dXYLjjeCFi \n",
            "\n",
            "Wed Oct 24 14:51:07 +0000 2018 RT @amilcarmontejo: #PrecaucionGT por diesel derramado en tramo de 10 avenida, desde Calle Martí a 4 calle Barrio Moderno zona 2.\n",
            "\n",
            "Douglas… \n",
            "\n",
            "Wed Oct 24 13:42:58 +0000 2018 RT @amilcarmontejo: #PrecaucionGT por diesel derramado en tramo de 10 avenida, desde Calle Martí a 4 calle Barrio Moderno zona 2.\n",
            "\n",
            "Douglas… \n",
            "\n",
            "Wed Oct 24 13:22:44 +0000 2018 RT @amilcarmontejo: #PrecaucionGT por diesel derramado en tramo de 10 avenida, desde Calle Martí a 4 calle Barrio Moderno zona 2.\n",
            "\n",
            "Douglas… \n",
            "\n",
            "Wed Oct 24 13:16:50 +0000 2018 #PrecaucionGT por diesel derramado en tramo de 10 avenida, desde Calle Martí a 4 calle Barrio Moderno zona 2. https://t.co/B6Zxqsldq6 \n",
            "\n",
            "Wed Oct 24 13:14:43 +0000 2018 RT @amilcarmontejo: #PrecaucionGT por diesel derramado en tramo de 10 avenida, desde Calle Martí a 4 calle Barrio Moderno zona 2.\n",
            "\n",
            "Douglas… \n",
            "\n",
            "Wed Oct 24 13:14:12 +0000 2018 RT @amilcarmontejo: #PrecaucionGT por diesel derramado en tramo de 10 avenida, desde Calle Martí a 4 calle Barrio Moderno zona 2.\n",
            "\n",
            "Douglas… \n",
            "\n",
            "Wed Oct 24 13:11:41 +0000 2018 RT @amilcarmontejo: #PrecaucionGT por diesel derramado en tramo de 10 avenida, desde Calle Martí a 4 calle Barrio Moderno zona 2.\n",
            "\n",
            "Douglas… \n",
            "\n",
            "Wed Oct 24 12:48:58 +0000 2018 RT @amilcarmontejo: #PrecaucionGT por diesel derramado en tramo de 10 avenida, desde Calle Martí a 4 calle Barrio Moderno zona 2.\n",
            "\n",
            "Douglas… \n",
            "\n",
            "Wed Oct 24 12:38:47 +0000 2018 RT @amilcarmontejo: #PrecaucionGT por diesel derramado en tramo de 10 avenida, desde Calle Martí a 4 calle Barrio Moderno zona 2.\n",
            "\n",
            "Douglas… \n",
            "\n",
            "Wed Oct 24 12:38:03 +0000 2018 #PrecaucionGT por diesel derramado en tramo de 10 avenida, desde Calle Martí a 4 calle Barrio Moderno zona 2.\n",
            "\n",
            "Doug… https://t.co/7CFliCb7HT \n",
            "\n",
            "Tue Oct 23 16:10:45 +0000 2018 RT @amilcarmontejo: #PrecaucionGT | Vehículo con neumático pinchado en 35 calle 11 avenida colonia Las Charcas zona 11. Afecta #TransitoGT… \n",
            "\n",
            "Tue Oct 23 15:04:58 +0000 2018 RT @amilcarmontejo: Algunos medios informan que martes 23 de octubre del 2018, podrían haber bloqueos en vias principales de #Quiché.\n",
            "\n",
            "Dice… \n",
            "\n"
          ],
          "name": "stdout"
        }
      ]
    },
    {
      "metadata": {
        "id": "VWzUIK9bnDrd",
        "colab_type": "code",
        "colab": {
          "base_uri": "https://localhost:8080/",
          "height": 683
        },
        "outputId": "715286ba-d56a-4fe1-83e5-7c3646cf23dc"
      },
      "cell_type": "code",
      "source": [
        "\n",
        "for s2 in query2['statuses']:\n",
        "    print(s2['created_at'], s2['text'], '\\n')"
      ],
      "execution_count": 26,
      "outputs": [
        {
          "output_type": "stream",
          "text": [
            "Sun Oct 28 01:34:00 +0000 2018 Accidente #transitogt en 6Calle Barrio El Jardín #Coatepeque, #Quetzaltenango, motoristas atropellados, socorristas… https://t.co/IXlFkeep1p \n",
            "\n",
            "Sun Oct 28 01:19:07 +0000 2018 #SurOccidenteGT\n",
            "\n",
            "Accidente #transitogt en 6Calle Barrio El Jardín #Coatepeque, #Quetzaltenango, motoristas atropell… https://t.co/XyEOEXTwX3 \n",
            "\n",
            "Sun Oct 28 00:58:11 +0000 2018 RT @amilcarmontejo: MARIO ROBERTO ECUTE MONTENEGRO se le informa que varios documentos a su nombre y hasta dinero en efectivo, fueron encon… \n",
            "\n",
            "Sun Oct 28 00:42:50 +0000 2018 RT @amilcarmontejo: MARIO ROBERTO ECUTE MONTENEGRO se le informa que varios documentos a su nombre y hasta dinero en efectivo, fueron encon… \n",
            "\n",
            "Sun Oct 28 00:22:26 +0000 2018 RT @amilcarmontejo: #PrecaucionGT por carro averiado en Viaducto Villa Linda, sobre Periférico sur 17 calle zona 7.\n",
            "\n",
            "Informa Eduardo Mó que… \n",
            "\n",
            "Sat Oct 27 23:58:16 +0000 2018 RT @amilcarmontejo: MARIO ROBERTO ECUTE MONTENEGRO se le informa que varios documentos a su nombre y hasta dinero en efectivo, fueron encon… \n",
            "\n",
            "Sat Oct 27 23:35:31 +0000 2018 RT @amilcarmontejo: MARIO ROBERTO ECUTE MONTENEGRO se le informa que varios documentos a su nombre y hasta dinero en efectivo, fueron encon… \n",
            "\n",
            "Sat Oct 27 23:22:02 +0000 2018 RT @amilcarmontejo: #PrecaucionGT por carro averiado en Viaducto Villa Linda, sobre Periférico sur 17 calle zona 7.\n",
            "\n",
            "Informa Eduardo Mó que… \n",
            "\n",
            "Sat Oct 27 23:18:24 +0000 2018 RT @amilcarmontejo: MARIO ROBERTO ECUTE MONTENEGRO se le informa que varios documentos a su nombre y hasta dinero en efectivo, fueron encon… \n",
            "\n",
            "Sat Oct 27 23:14:49 +0000 2018 #PrecaucionGT por carro averiado en Viaducto Villa Linda, sobre Periférico sur 17 calle zona 7.\n",
            "\n",
            "Informa Eduardo Mó… https://t.co/dXYLjjeCFi \n",
            "\n",
            "Sat Oct 27 23:08:09 +0000 2018 RT @amilcarmontejo: MARIO ROBERTO ECUTE MONTENEGRO se le informa que varios documentos a su nombre y hasta dinero en efectivo, fueron encon… \n",
            "\n",
            "Sat Oct 27 23:07:27 +0000 2018 RT @amilcarmontejo: MARIO ROBERTO ECUTE MONTENEGRO se le informa que varios documentos a su nombre y hasta dinero en efectivo, fueron encon… \n",
            "\n",
            "Sat Oct 27 22:43:38 +0000 2018 RT @amilcarmontejo: Retiran tráiler con fallas mecánicas en #TransitoGT de km 5.7 ruta El Atlántico zona 17. Impacta #TraficoGT hasta Hipód… \n",
            "\n",
            "Sat Oct 27 22:40:44 +0000 2018 RT @amilcarmontejo: MARIO ROBERTO ECUTE MONTENEGRO se le informa que varios documentos a su nombre y hasta dinero en efectivo, fueron encon… \n",
            "\n",
            "Sat Oct 27 22:33:17 +0000 2018 RT @amilcarmontejo: Retiran tráiler con fallas mecánicas en #TransitoGT de km 5.7 ruta El Atlántico zona 17. Impacta #TraficoGT hasta Hipód… \n",
            "\n"
          ],
          "name": "stdout"
        }
      ]
    },
    {
      "metadata": {
        "colab_type": "text",
        "id": "HQhKUWsxF4oJ"
      },
      "cell_type": "markdown",
      "source": [
        "## Limpieza de datos\n"
      ]
    },
    {
      "metadata": {
        "colab_type": "text",
        "id": "L_6IJSUYF4oK"
      },
      "cell_type": "markdown",
      "source": [
        "#### Volviendo Todo en Minuscula"
      ]
    },
    {
      "metadata": {
        "colab_type": "code",
        "id": "z-iMQFyzF4oK",
        "colab": {}
      },
      "cell_type": "code",
      "source": [
        "for s1 in query1['statuses']:\n",
        "  s1['text'] = s1['text'].lower()\n",
        "  \n",
        "for s2 in query2['statuses']:\n",
        "  s2['text'] = s2['text'].lower()"
      ],
      "execution_count": 0,
      "outputs": []
    },
    {
      "metadata": {
        "colab_type": "text",
        "id": "4rqSSguTF4oM"
      },
      "cell_type": "markdown",
      "source": [
        "#### Quitar los caracteres especiales que aparecen como “#”,”@” o los apóstrofes."
      ]
    },
    {
      "metadata": {
        "colab_type": "code",
        "id": "kDHmhlbdF4oN",
        "colab": {}
      },
      "cell_type": "code",
      "source": [
        "for s1 in query1['statuses']:\n",
        "  s1['text'] = re.sub(r\"@\", \"\", s1['text'])\n",
        "  s1['text'] = re.sub(r\"#\", \"\", s1['text'])  \n",
        "  s1['text'] = re.sub(r\"\\'\", \"\", s1['text'])\n",
        "  s1['text'] = re.sub(r\"rt\", \"\", s1['text'])\n",
        "  \n",
        "  \n",
        "for s2 in query2['statuses']:\n",
        "  s2['text'] = re.sub(r\"@\", \"\", s2['text'])\n",
        "  s2['text'] = re.sub(r\"#\", \"\", s2['text'])  \n",
        "  s2['text'] = re.sub(r\"\\'\", \"\", s2['text'])\n",
        "  s2['text'] = re.sub(r\"rt\", \"\", s2['text'])"
      ],
      "execution_count": 0,
      "outputs": []
    },
    {
      "metadata": {
        "colab_type": "text",
        "id": "CH1SGzhHF4oR"
      },
      "cell_type": "markdown",
      "source": [
        "#### Quitar las url"
      ]
    },
    {
      "metadata": {
        "colab_type": "code",
        "id": "kxfko5h5F4oS",
        "colab": {}
      },
      "cell_type": "code",
      "source": [
        "for s1 in query1['statuses']:\n",
        "  s1['text'] = re.sub(r\"(http|ftp|https)[:A-Za-z//.0-9_]*$\", \"\", s1['text']) \n",
        "  \n",
        "for s2 in query2['statuses']:\n",
        "  s2['text'] = re.sub(r\"(http|ftp|https)[:A-Za-z//.0-9_]*$\", \"\", s2['text']) "
      ],
      "execution_count": 0,
      "outputs": []
    },
    {
      "metadata": {
        "colab_type": "text",
        "id": "sHOuwNIZF4oV"
      },
      "cell_type": "markdown",
      "source": [
        "#### Quitando Stopwords"
      ]
    },
    {
      "metadata": {
        "colab_type": "code",
        "id": "qe2yNyzPF4oY",
        "colab": {}
      },
      "cell_type": "code",
      "source": [
        "for s1 in query1['statuses']:\n",
        "  s1['text'] = ' '.join([word for word in s1['text'].split() if word not in stopwords.words('spanish')])\n",
        "  \n",
        "for s2 in query2['statuses']:\n",
        "  s2['text'] = ' '.join([word for word in s2['text'].split() if word not in stopwords.words('spanish')])"
      ],
      "execution_count": 0,
      "outputs": []
    },
    {
      "metadata": {
        "colab_type": "text",
        "id": "v5arTtMXF4oc"
      },
      "cell_type": "markdown",
      "source": [
        "## Descubriendo Informacion\n",
        "Se crea un diccionario con las palabras utilizadas y se van contando cuantas veces se repiten <br>\n",
        "\n",
        "#### Diccionario"
      ]
    },
    {
      "metadata": {
        "colab_type": "code",
        "id": "02qogL76F4oc",
        "colab": {}
      },
      "cell_type": "code",
      "source": [
        "palabrasMasComunes1 = {}\n",
        "palabrasMasComunes2 = {}"
      ],
      "execution_count": 0,
      "outputs": []
    },
    {
      "metadata": {
        "colab_type": "code",
        "id": "7W4OR7IpF4om",
        "colab": {}
      },
      "cell_type": "code",
      "source": [
        "for s1 in query1['statuses']:\n",
        "  palabrasMasComunes1 = word_count(s1['text'], palabrasMasComunes1)\n",
        "\n",
        "for s2 in query2['statuses']:\n",
        "  palabrasMasComunes2 = word_count(s2['text'], palabrasMasComunes2)\n"
      ],
      "execution_count": 0,
      "outputs": []
    },
    {
      "metadata": {
        "colab_type": "text",
        "id": "yjMWi9dKF4op"
      },
      "cell_type": "markdown",
      "source": [
        "#### Palabras mas Comunes"
      ]
    },
    {
      "metadata": {
        "colab_type": "code",
        "id": "7-_MP8Y1F4oq",
        "colab": {
          "base_uri": "https://localhost:8080/",
          "height": 952
        },
        "outputId": "97e5ce02-48f7-4473-d1ed-15a08bb499e9"
      },
      "cell_type": "code",
      "source": [
        "for key in palabrasMasComunes1:\n",
        "    print (\"%s: %s\" % (key, palabrasMasComunes1[key]))"
      ],
      "execution_count": 115,
      "outputs": [
        {
          "output_type": "stream",
          "text": [
            "amilcarmontejo:: 12\n",
            "precauciongt: 14\n",
            "carro: 3\n",
            "averiado: 3\n",
            "viaducto: 3\n",
            "villa: 3\n",
            "linda,: 3\n",
            "periférico: 3\n",
            "sur: 3\n",
            "17: 3\n",
            "calle: 24\n",
            "zona: 14\n",
            "7.: 3\n",
            "informa: 3\n",
            "eduardo: 3\n",
            "mó: 2\n",
            "que…: 2\n",
            "mó…: 1\n",
            "diesel: 10\n",
            "derramado: 10\n",
            "tramo: 10\n",
            "10: 10\n",
            "avenida,: 10\n",
            "maí: 10\n",
            "4: 10\n",
            "barrio: 10\n",
            "moderno: 10\n",
            "2.: 10\n",
            "douglas…: 8\n",
            "doug…: 1\n",
            "|: 1\n",
            "vehículo: 1\n",
            "neumático: 1\n",
            "pinchado: 1\n",
            "35: 1\n",
            "11: 1\n",
            "avenida: 1\n",
            "colonia: 1\n",
            "charcas: 1\n",
            "11.: 1\n",
            "afecta: 1\n",
            "transitogt…: 1\n",
            "medios: 1\n",
            "informan: 1\n",
            "maes: 1\n",
            "23: 1\n",
            "octubre: 1\n",
            "2018,: 1\n",
            "podrían: 1\n",
            "haber: 1\n",
            "bloqueos: 1\n",
            "vias: 1\n",
            "principales: 1\n",
            "quiché.: 1\n",
            "dice…: 1\n"
          ],
          "name": "stdout"
        }
      ]
    },
    {
      "metadata": {
        "id": "zYBPsfl1kpGq",
        "colab_type": "code",
        "colab": {
          "base_uri": "https://localhost:8080/",
          "height": 901
        },
        "outputId": "e093c39f-a29c-46b1-e5ef-d8abb72593da"
      },
      "cell_type": "code",
      "source": [
        "for key in palabrasMasComunes2:\n",
        "    print (\"%s: %s\" % (key, palabrasMasComunes2[key]))"
      ],
      "execution_count": 53,
      "outputs": [
        {
          "output_type": "stream",
          "text": [
            "accidente: 2\n",
            "transitogt: 4\n",
            "6calle: 2\n",
            "barrio: 2\n",
            "jardín: 2\n",
            "coatepeque,: 2\n",
            "quetzaltenango,: 2\n",
            "motoristas: 2\n",
            "atropellados,: 1\n",
            "socorristas…: 1\n",
            "suroccidentegt: 1\n",
            "atropell…: 1\n",
            "amilcarmontejo:: 12\n",
            "mario: 8\n",
            "robeo: 8\n",
            "ecute: 8\n",
            "montenegro: 8\n",
            "informa: 11\n",
            "varios: 8\n",
            "documentos: 8\n",
            "nombre: 8\n",
            "dinero: 8\n",
            "efectivo,: 8\n",
            "encon…: 8\n",
            "precauciongt: 3\n",
            "carro: 3\n",
            "averiado: 3\n",
            "viaducto: 3\n",
            "villa: 3\n",
            "linda,: 3\n",
            "periférico: 3\n",
            "sur: 3\n",
            "17: 3\n",
            "calle: 3\n",
            "zona: 5\n",
            "7.: 3\n",
            "eduardo: 3\n",
            "mó: 2\n",
            "que…: 2\n",
            "mó…: 1\n",
            "retiran: 2\n",
            "tráiler: 2\n",
            "fallas: 2\n",
            "mecánicas: 2\n",
            "km: 2\n",
            "5.7: 2\n",
            "ruta: 2\n",
            "atlántico: 2\n",
            "17.: 2\n",
            "impacta: 2\n",
            "traficogt: 2\n",
            "hipód…: 2\n"
          ],
          "name": "stdout"
        }
      ]
    },
    {
      "metadata": {
        "id": "QGJPmILBk3Mj",
        "colab_type": "text"
      },
      "cell_type": "markdown",
      "source": [
        "###Ordenamos la ista de mayor a menor\n"
      ]
    },
    {
      "metadata": {
        "id": "MoBmSsqak2uR",
        "colab_type": "code",
        "colab": {}
      },
      "cell_type": "code",
      "source": [
        "palabrasOrdenadas1 = {}\n",
        "palabrasOrdenadas2 = {}"
      ],
      "execution_count": 0,
      "outputs": []
    },
    {
      "metadata": {
        "id": "OtHD-np-lExe",
        "colab_type": "code",
        "colab": {}
      },
      "cell_type": "code",
      "source": [
        "for key, value in sorted(palabrasMasComunes1.items(), key=operator.itemgetter(1), reverse=True):\n",
        "  palabrasOrdenadas1[key] = int(value)\n",
        "  \n",
        "for key, value in sorted(palabrasMasComunes2.items(), key=operator.itemgetter(1), reverse=True):\n",
        "  palabrasOrdenadas2[key] = int(value)"
      ],
      "execution_count": 0,
      "outputs": []
    },
    {
      "metadata": {
        "id": "BvbpUItQlT3_",
        "colab_type": "code",
        "colab": {
          "base_uri": "https://localhost:8080/",
          "height": 71
        },
        "outputId": "be75a1f7-2932-45fa-e08f-a86d2f365580"
      },
      "cell_type": "code",
      "source": [
        "print(palabrasOrdenadas1)\n",
        "print(palabrasOrdenadas2)"
      ],
      "execution_count": 56,
      "outputs": [
        {
          "output_type": "stream",
          "text": [
            "{'calle': 24, 'precauciongt': 14, 'zona': 14, 'amilcarmontejo:': 12, 'diesel': 10, 'derramado': 10, 'tramo': 10, '10': 10, 'avenida,': 10, 'maí': 10, '4': 10, 'barrio': 10, 'moderno': 10, '2.': 10, 'douglas…': 8, 'carro': 3, 'averiado': 3, 'viaducto': 3, 'villa': 3, 'linda,': 3, 'periférico': 3, 'sur': 3, '17': 3, '7.': 3, 'informa': 3, 'eduardo': 3, 'mó': 2, 'que…': 2, 'mó…': 1, 'doug…': 1, '|': 1, 'vehículo': 1, 'neumático': 1, 'pinchado': 1, '35': 1, '11': 1, 'avenida': 1, 'colonia': 1, 'charcas': 1, '11.': 1, 'afecta': 1, 'transitogt…': 1, 'medios': 1, 'informan': 1, 'maes': 1, '23': 1, 'octubre': 1, '2018,': 1, 'podrían': 1, 'haber': 1, 'bloqueos': 1, 'vias': 1, 'principales': 1, 'quiché.': 1, 'dice…': 1}\n",
            "{'amilcarmontejo:': 12, 'informa': 11, 'mario': 8, 'robeo': 8, 'ecute': 8, 'montenegro': 8, 'varios': 8, 'documentos': 8, 'nombre': 8, 'dinero': 8, 'efectivo,': 8, 'encon…': 8, 'zona': 5, 'transitogt': 4, 'precauciongt': 3, 'carro': 3, 'averiado': 3, 'viaducto': 3, 'villa': 3, 'linda,': 3, 'periférico': 3, 'sur': 3, '17': 3, 'calle': 3, '7.': 3, 'eduardo': 3, 'accidente': 2, '6calle': 2, 'barrio': 2, 'jardín': 2, 'coatepeque,': 2, 'quetzaltenango,': 2, 'motoristas': 2, 'mó': 2, 'que…': 2, 'retiran': 2, 'tráiler': 2, 'fallas': 2, 'mecánicas': 2, 'km': 2, '5.7': 2, 'ruta': 2, 'atlántico': 2, '17.': 2, 'impacta': 2, 'traficogt': 2, 'hipód…': 2, 'atropellados,': 1, 'socorristas…': 1, 'suroccidentegt': 1, 'atropell…': 1, 'mó…': 1}\n"
          ],
          "name": "stdout"
        }
      ]
    },
    {
      "metadata": {
        "id": "7bO6fUPLlUDL",
        "colab_type": "code",
        "colab": {
          "base_uri": "https://localhost:8080/",
          "height": 71
        },
        "outputId": "7ba999e0-c4ca-4abb-b707-cf2b4a3219b7"
      },
      "cell_type": "code",
      "source": [
        "keys1 = keyInOrder(palabrasOrdenadas1, 50)\n",
        "\n",
        "keys2 = keyInOrder(palabrasOrdenadas2, 50)\n",
        "\n",
        "\n",
        "print (keys1)\n",
        "\n",
        "print (keys2)"
      ],
      "execution_count": 57,
      "outputs": [
        {
          "output_type": "stream",
          "text": [
            "{'calle': 24, 'precauciongt': 14, 'zona': 14, 'amilcarmontejo:': 12, 'diesel': 10, 'derramado': 10, 'tramo': 10, '10': 10, 'avenida,': 10, 'maí': 10, '4': 10, 'barrio': 10, 'moderno': 10, '2.': 10, 'douglas…': 8, 'carro': 3, 'averiado': 3, 'viaducto': 3, 'villa': 3, 'linda,': 3, 'periférico': 3, 'sur': 3, '17': 3, '7.': 3, 'informa': 3, 'eduardo': 3, 'mó': 2, 'que…': 2, 'mó…': 1, 'doug…': 1, '|': 1, 'vehículo': 1, 'neumático': 1, 'pinchado': 1, '35': 1, '11': 1, 'avenida': 1, 'colonia': 1, 'charcas': 1, '11.': 1, 'afecta': 1, 'transitogt…': 1, 'medios': 1, 'informan': 1, 'maes': 1, '23': 1, 'octubre': 1, '2018,': 1, 'podrían': 1, 'haber': 1}\n",
            "{'amilcarmontejo:': 12, 'informa': 11, 'mario': 8, 'robeo': 8, 'ecute': 8, 'montenegro': 8, 'varios': 8, 'documentos': 8, 'nombre': 8, 'dinero': 8, 'efectivo,': 8, 'encon…': 8, 'zona': 5, 'transitogt': 4, 'precauciongt': 3, 'carro': 3, 'averiado': 3, 'viaducto': 3, 'villa': 3, 'linda,': 3, 'periférico': 3, 'sur': 3, '17': 3, 'calle': 3, '7.': 3, 'eduardo': 3, 'accidente': 2, '6calle': 2, 'barrio': 2, 'jardín': 2, 'coatepeque,': 2, 'quetzaltenango,': 2, 'motoristas': 2, 'mó': 2, 'que…': 2, 'retiran': 2, 'tráiler': 2, 'fallas': 2, 'mecánicas': 2, 'km': 2, '5.7': 2, 'ruta': 2, 'atlántico': 2, '17.': 2, 'impacta': 2, 'traficogt': 2, 'hipód…': 2, 'atropellados,': 1, 'socorristas…': 1, 'suroccidentegt': 1}\n"
          ],
          "name": "stdout"
        }
      ]
    },
    {
      "metadata": {
        "colab_type": "text",
        "id": "Tth2GZdPF4ou"
      },
      "cell_type": "markdown",
      "source": [
        "#### Representacion en Graficas"
      ]
    },
    {
      "metadata": {
        "colab_type": "code",
        "id": "hJxhXQSrF4ow",
        "colab": {
          "base_uri": "https://localhost:8080/",
          "height": 379
        },
        "outputId": "11c5ed9c-99bd-4f75-ee1d-5ad8055cef7d"
      },
      "cell_type": "code",
      "source": [
        "plt.bar(keys1.keys(), keys1.values(), color='b')\n",
        "plt.title(\"Palabras Mas Comunes\")"
      ],
      "execution_count": 58,
      "outputs": [
        {
          "output_type": "execute_result",
          "data": {
            "text/plain": [
              "Text(0.5,1,'Palabras Mas Comunes')"
            ]
          },
          "metadata": {
            "tags": []
          },
          "execution_count": 58
        },
        {
          "output_type": "display_data",
          "data": {
            "image/png": "[encoded data removed]",
            "text/plain": [
              "<matplotlib.figure.Figure at 0x7f9c6c657898>"
            ]
          },
          "metadata": {
            "tags": []
          }
        }
      ]
    },
    {
      "metadata": {
        "id": "YBMpuUszl_wN",
        "colab_type": "code",
        "colab": {
          "base_uri": "https://localhost:8080/",
          "height": 379
        },
        "outputId": "e94c92cc-7103-4007-a6cc-1b14d69d2bb6"
      },
      "cell_type": "code",
      "source": [
        "plt.bar(keys2.keys(), keys2.values(), color='b')\n",
        "plt.title(\"Palabras Mas Comunes\")"
      ],
      "execution_count": 41,
      "outputs": [
        {
          "output_type": "execute_result",
          "data": {
            "text/plain": [
              "Text(0.5,1,'Palabras Mas Comunes')"
            ]
          },
          "metadata": {
            "tags": []
          },
          "execution_count": 41
        },
        {
          "output_type": "display_data",
          "data": {
            "image/png": "[encoded data removed]",
            "text/plain": [
              "<matplotlib.figure.Figure at 0x7f9c6c86a7f0>"
            ]
          },
          "metadata": {
            "tags": []
          }
        }
      ]
    },
    {
      "metadata": {
        "colab_type": "text",
        "id": "KVDBb-QmF4o2"
      },
      "cell_type": "markdown",
      "source": [
        "## Conclusiones Problema 2\n",
        "Primero se puede observar que para #TraficoGTo, no se encuentran tweets y es porque ha estado inactivo desde 2016<br>\n",
        "por lo cual se cambiará a #PrecaucionGT<br>\n",
        "con lo que podemos observar que al ver las palabras más comunes: Dissel, Derramado, Carro averiado, villa nueva, zona \"4 y 2\"<br><br>\n",
        "\n",
        "por lo cual se puede decir que las zonas 4 y 2 son las zonas con más alertas denunciadas, el aceite derramado es el mayor causante de las alertas así como carros averiados. <br><br><br>\n",
        "\n",
        "\n",
        "Ahora viendo las palabras más comunes de TransitoGT <br>\n",
        "Se observa que hay varios RT sobre Almicar Montejo, por lo cual es muy difícil hacer el análisis<br>\n",
        "\n",
        "por lo cual se decide hacer un estudio de una lista de 50 palabras en la cual se encuentran las palabras: Villa linda, villa nueva, Carro averiado, Fallas, tráiler, periférico. <br><br>\n",
        "\n",
        "por lo cual podemos discutir que la mayor influencia sobre accidentes o avisos es por carros averiados, fallas con tráiler, con villa nueva, villa linda y el periférico siendo las áreas más afectadas.\n"
      ]
    },
    {
      "metadata": {
        "id": "Zw5u5UoxSIIC",
        "colab_type": "text"
      },
      "cell_type": "markdown",
      "source": [
        "# Solucion problema 3"
      ]
    },
    {
      "metadata": {
        "id": "_8mI08NjSQMT",
        "colab_type": "text"
      },
      "cell_type": "markdown",
      "source": [
        "## Descarga de Informacion de Twitter\n",
        "Se va a buscar twitts que tengan los hashtags #Worlds2018"
      ]
    },
    {
      "metadata": {
        "id": "duusJ0QwTWnw",
        "colab_type": "code",
        "colab": {
          "base_uri": "https://localhost:8080/",
          "height": 904
        },
        "outputId": "e58deba1-e7d3-4379-86ab-296be9cbc3d8"
      },
      "cell_type": "code",
      "source": [
        "query3 = t.search.tweets(q='%23Worlds2018')\n",
        "for s3 in query3['statuses']:\n",
        "    print(s3['created_at'], s3['text'], '\\n')"
      ],
      "execution_count": 83,
      "outputs": [
        {
          "output_type": "stream",
          "text": [
            "Sun Oct 28 01:46:56 +0000 2018 RT @Cloud9: There are less than 8 hours left before the War of the West at #Worlds2018 and we need your energy! Help us form a C9 Spirit Bo… \n",
            "\n",
            "Sun Oct 28 01:46:46 +0000 2018 RT @redbullesports: Dear @Cloud9.\n",
            "\n",
            "We don't ask for much, but today, we have to ask for a 3-0 #C9WIN tomorrow.\n",
            "\n",
            "You know what? 3-2 #C9WIN i… \n",
            "\n",
            "Sun Oct 28 01:46:46 +0000 2018 RT @Cloud9: There are less than 8 hours left before the War of the West at #Worlds2018 and we need your energy! Help us form a C9 Spirit Bo… \n",
            "\n",
            "Sun Oct 28 01:46:39 +0000 2018 RT @Cloud9: Don't you ever just get the feeling that...\n",
            "\n",
            "Tomorrow is gonna be exciting 😊? #Worlds2018 \n",
            "\n",
            "Sun Oct 28 01:46:39 +0000 2018 RT @idleguide: We suspect the girls [MIGHT] be cosplaying for their performance, at World Championship Finals. Here’s a short clip of one o… \n",
            "\n",
            "Sun Oct 28 01:46:35 +0000 2018 RT @lolesports: DUNKED!\n",
            "\n",
            "Take a closer look at how TheShy's Aatrox destroyed G2's health bars in game 3 of their #Worlds2018 Semifinal! htt… \n",
            "\n",
            "Sun Oct 28 01:46:19 +0000 2018 I’m rooting for #FNCWIN! Support your team at #worlds2018 with @predatorgaming &amp; stand a chance to win LOL skins.… https://t.co/DUufbR2GEU \n",
            "\n",
            "Sun Oct 28 01:46:09 +0000 2018 RT @Cloud9: 👟 SPAM 👟 THIS 👟 SHOE 👟 TO 👟 HELP 👟 G2 👟\n",
            "\n",
            "GET THIS BREAD, @G2esports! #WESTWIN #G2WIN #Worlds2018 \n",
            "\n",
            "Sun Oct 28 01:45:24 +0000 2018 I’m rooting for #C9WIN! Support your team at #worlds2018 with @predatorgaming &amp; stand a chance to win LOL skins.… https://t.co/pQilruoLYM \n",
            "\n",
            "Sun Oct 28 01:45:14 +0000 2018 RT @FionnOnFire: iG is the first non-Uzi Chinese team to make a world final \n",
            "\n",
            "This is a big accomplishment #Worlds2018 \n",
            "\n",
            "Sun Oct 28 01:44:59 +0000 2018 RT @Official_LJL: 【#Worlds2018 SEMI FINALS特集記事】\n",
            "「勝利まであと一歩」\n",
            "https://t.co/ywEXuD9CpX \n",
            "歴史の1ページに名を残すべく、幾多の困難を乗り越えて勝ち上がってきた4チーム。しかし王座は常にひとつだけ。残り… \n",
            "\n",
            "Sun Oct 28 01:44:47 +0000 2018 RT @PredatorGaming: Tweet your support for #C9WIN or #FNCWIN at #Worlds2018 semifinals and you could win a legendary Pulsefire Caitlyn skin… \n",
            "\n",
            "Sun Oct 28 01:44:30 +0000 2018 RT @lolesports: DUNKED!\n",
            "\n",
            "Take a closer look at how TheShy's Aatrox destroyed G2's health bars in game 3 of their #Worlds2018 Semifinal! htt… \n",
            "\n",
            "Sun Oct 28 01:44:29 +0000 2018 RT @lolesports: #IGWIN!\n",
            "\n",
            "@invgaming sweep the series against @G2esports 3-0 and secure their spot in the #Worlds2018 Final! https://t.co/Ij… \n",
            "\n",
            "Sun Oct 28 01:44:19 +0000 2018 RT @ESPN_Esports: TheShy would not be stopped against G2.\n",
            "\n",
            "#Worlds2018 https://t.co/c4OSbFqWs3 \n",
            "\n"
          ],
          "name": "stdout"
        }
      ]
    },
    {
      "metadata": {
        "id": "ZnPAQSmMSQeE",
        "colab_type": "text"
      },
      "cell_type": "markdown",
      "source": [
        "## Limpieza de datos"
      ]
    },
    {
      "metadata": {
        "id": "d7wLgQdDSQlZ",
        "colab_type": "text"
      },
      "cell_type": "markdown",
      "source": [
        "#### Volviendo Todo en Minuscula"
      ]
    },
    {
      "metadata": {
        "id": "VUiftoE_UJEo",
        "colab_type": "code",
        "colab": {}
      },
      "cell_type": "code",
      "source": [
        "for s3 in query3['statuses']:\n",
        "  s3['text'] = s3['text'].lower()"
      ],
      "execution_count": 0,
      "outputs": []
    },
    {
      "metadata": {
        "id": "6_LwPf5ISQrx",
        "colab_type": "text"
      },
      "cell_type": "markdown",
      "source": [
        "#### Quitar los caracteres especiales que aparecen como “#”,”@” o los apóstrofes."
      ]
    },
    {
      "metadata": {
        "id": "ptNVJkJEUTvD",
        "colab_type": "code",
        "colab": {}
      },
      "cell_type": "code",
      "source": [
        "for s3 in query3['statuses']:\n",
        "  s3['text'] = re.sub(r\"@\", \"\", s3['text'])\n",
        "  s3['text'] = re.sub(r\"#\", \"\", s3['text'])  \n",
        "  s3['text'] = re.sub(r\"\\'\", \"\", s3['text'])\n",
        "  s3['text'] = re.sub(r\"rt\", \"\", s3['text'])\n",
        "  s3['text'] = re.sub(r\"worlds2018\", \"\", s3['text'])"
      ],
      "execution_count": 0,
      "outputs": []
    },
    {
      "metadata": {
        "id": "eHsHUDtGSQx-",
        "colab_type": "text"
      },
      "cell_type": "markdown",
      "source": [
        "#### Quitar las url"
      ]
    },
    {
      "metadata": {
        "id": "u97Wlr6cUUEY",
        "colab_type": "code",
        "colab": {}
      },
      "cell_type": "code",
      "source": [
        "for s3 in query3['statuses']:\n",
        "  s3['text'] = re.sub(r\"(http|ftp|https)[:A-Za-z//.0-9_]*$\", \"\", s3['text']) "
      ],
      "execution_count": 0,
      "outputs": []
    },
    {
      "metadata": {
        "id": "wGBbakQKSQ4K",
        "colab_type": "text"
      },
      "cell_type": "markdown",
      "source": [
        "#### Quitando Stopwords"
      ]
    },
    {
      "metadata": {
        "id": "Ps7VX_G1UUfB",
        "colab_type": "code",
        "colab": {}
      },
      "cell_type": "code",
      "source": [
        "for s3 in query3['statuses']:\n",
        "  s3['text'] = ' '.join([word for word in s3['text'].split() if word not in stopwords.words('english')])"
      ],
      "execution_count": 0,
      "outputs": []
    },
    {
      "metadata": {
        "id": "DcZ7y1XRSQ-T",
        "colab_type": "text"
      },
      "cell_type": "markdown",
      "source": [
        "## Descubriendo Informacion\n",
        "Se crea un diccionario con las palabras utilizadas y se van contando cuantas veces se repiten <br>\n",
        "\n",
        "#### Diccionario"
      ]
    },
    {
      "metadata": {
        "id": "ijCBYsFVTHC2",
        "colab_type": "code",
        "colab": {}
      },
      "cell_type": "code",
      "source": [
        "palabrasMasComunes3 = {}\n",
        "\n",
        "for s3 in query3['statuses']:\n",
        "  palabrasMasComunes3 = word_count(s3['text'], palabrasMasComunes3)"
      ],
      "execution_count": 0,
      "outputs": []
    },
    {
      "metadata": {
        "id": "v2q_LnFXSREq",
        "colab_type": "text"
      },
      "cell_type": "markdown",
      "source": [
        "#### Palabras mas Comunes"
      ]
    },
    {
      "metadata": {
        "id": "Zl3OGsBDVVF0",
        "colab_type": "code",
        "colab": {
          "base_uri": "https://localhost:8080/",
          "height": 2159
        },
        "outputId": "8b8c780e-0513-4616-864e-f4bdc3b8a5ce"
      },
      "cell_type": "code",
      "source": [
        "for key in palabrasMasComunes3:\n",
        "    print (\"%s: %s\" % (key, palabrasMasComunes3[key]))"
      ],
      "execution_count": 109,
      "outputs": [
        {
          "output_type": "stream",
          "text": [
            "cloud9:: 4\n",
            "less: 2\n",
            "8: 2\n",
            "hours: 2\n",
            "left: 2\n",
            "war: 2\n",
            "west: 2\n",
            "need: 2\n",
            "energy!: 2\n",
            "help: 3\n",
            "us: 2\n",
            "form: 2\n",
            "c9: 2\n",
            "spirit: 2\n",
            "bo…: 2\n",
            "redbullespos:: 1\n",
            "dear: 1\n",
            "cloud9.: 1\n",
            "dont: 2\n",
            "ask: 2\n",
            "much,: 1\n",
            "today,: 1\n",
            "3-0: 2\n",
            "c9win: 3\n",
            "tomorrow.: 1\n",
            "know: 1\n",
            "what?: 1\n",
            "3-2: 1\n",
            "i…: 1\n",
            "ever: 1\n",
            "get: 2\n",
            "feeling: 1\n",
            "that...: 1\n",
            "tomorrow: 1\n",
            "gonna: 1\n",
            "exciting: 1\n",
            "😊?: 1\n",
            "idleguide:: 1\n",
            "suspect: 1\n",
            "girls: 1\n",
            "[might]: 1\n",
            "cosplaying: 1\n",
            "performance,: 1\n",
            "world: 2\n",
            "championship: 1\n",
            "finals.: 1\n",
            "here’s: 1\n",
            "sho: 1\n",
            "clip: 1\n",
            "one: 1\n",
            "o…: 1\n",
            "lolespos:: 3\n",
            "dunked!: 2\n",
            "take: 2\n",
            "closer: 2\n",
            "look: 2\n",
            "theshys: 2\n",
            "aatrox: 2\n",
            "destroyed: 2\n",
            "g2s: 2\n",
            "health: 2\n",
            "bars: 2\n",
            "game: 2\n",
            "3: 2\n",
            "semifinal!: 2\n",
            "htt…: 2\n",
            "i’m: 2\n",
            "rooting: 2\n",
            "fncwin!: 1\n",
            "suppo: 3\n",
            "team: 3\n",
            "predatorgaming: 2\n",
            "&amp;: 2\n",
            "stand: 2\n",
            "chance: 2\n",
            "win: 3\n",
            "lol: 2\n",
            "skins.…: 2\n",
            "👟: 7\n",
            "spam: 1\n",
            "shoe: 1\n",
            "g2: 1\n",
            "bread,: 1\n",
            "g2espos!: 1\n",
            "westwin: 1\n",
            "g2win: 1\n",
            "c9win!: 1\n",
            "fionnonfire:: 1\n",
            "ig: 1\n",
            "first: 1\n",
            "non-uzi: 1\n",
            "chinese: 1\n",
            "make: 1\n",
            "final: 1\n",
            "big: 1\n",
            "accomplishment: 1\n",
            "official_ljl:: 1\n",
            "【: 1\n",
            "semi: 1\n",
            "finals特集記事】: 1\n",
            "「勝利まであと一歩」: 1\n",
            "https://t.co/ywexud9cpx: 1\n",
            "歴史の1ページに名を残すべく、幾多の困難を乗り越えて勝ち上がってきた4チーム。しかし王座は常にひとつだけ。残り…: 1\n",
            "predatorgaming:: 1\n",
            "tweet: 1\n",
            "fncwin: 1\n",
            "semifinals: 1\n",
            "could: 1\n",
            "legendary: 1\n",
            "pulsefire: 1\n",
            "caitlyn: 1\n",
            "skin…: 1\n",
            "igwin!: 1\n",
            "invgaming: 1\n",
            "sweep: 1\n",
            "series: 1\n",
            "g2espos: 1\n",
            "secure: 1\n",
            "spot: 1\n",
            "final!: 1\n",
            "https://t.co/ij…: 1\n",
            "espn_espos:: 1\n",
            "theshy: 1\n",
            "would: 1\n",
            "stopped: 1\n",
            "g2.: 1\n"
          ],
          "name": "stdout"
        }
      ]
    },
    {
      "metadata": {
        "id": "rBxmBNIpSRLO",
        "colab_type": "text"
      },
      "cell_type": "markdown",
      "source": [
        "###Ordenamos la ista de mayor a menor"
      ]
    },
    {
      "metadata": {
        "id": "GnzvBxbXVVwh",
        "colab_type": "code",
        "colab": {
          "base_uri": "https://localhost:8080/",
          "height": 71
        },
        "outputId": "81ca0f35-4d7c-4b8e-c500-0df42174bd43"
      },
      "cell_type": "code",
      "source": [
        "palabrasOrdenadas3 = {}\n",
        "\n",
        "for key, value in sorted(palabrasMasComunes3.items(), key=operator.itemgetter(1), reverse=True):\n",
        "  palabrasOrdenadas3[key] = int(value)\n",
        "  \n",
        "print(palabrasOrdenadas3)\n",
        "\n",
        "keys3 = keyInOrder(palabrasOrdenadas3, 10)\n",
        "\n",
        "\n",
        "print (keys3)"
      ],
      "execution_count": 110,
      "outputs": [
        {
          "output_type": "stream",
          "text": [
            "{'👟': 7, 'cloud9:': 4, 'help': 3, 'c9win': 3, 'lolespos:': 3, 'suppo': 3, 'team': 3, 'win': 3, 'less': 2, '8': 2, 'hours': 2, 'left': 2, 'war': 2, 'west': 2, 'need': 2, 'energy!': 2, 'us': 2, 'form': 2, 'c9': 2, 'spirit': 2, 'bo…': 2, 'dont': 2, 'ask': 2, '3-0': 2, 'get': 2, 'world': 2, 'dunked!': 2, 'take': 2, 'closer': 2, 'look': 2, 'theshys': 2, 'aatrox': 2, 'destroyed': 2, 'g2s': 2, 'health': 2, 'bars': 2, 'game': 2, '3': 2, 'semifinal!': 2, 'htt…': 2, 'i’m': 2, 'rooting': 2, 'predatorgaming': 2, '&amp;': 2, 'stand': 2, 'chance': 2, 'lol': 2, 'skins.…': 2, 'redbullespos:': 1, 'dear': 1, 'cloud9.': 1, 'much,': 1, 'today,': 1, 'tomorrow.': 1, 'know': 1, 'what?': 1, '3-2': 1, 'i…': 1, 'ever': 1, 'feeling': 1, 'that...': 1, 'tomorrow': 1, 'gonna': 1, 'exciting': 1, '😊?': 1, 'idleguide:': 1, 'suspect': 1, 'girls': 1, '[might]': 1, 'cosplaying': 1, 'performance,': 1, 'championship': 1, 'finals.': 1, 'here’s': 1, 'sho': 1, 'clip': 1, 'one': 1, 'o…': 1, 'fncwin!': 1, 'spam': 1, 'shoe': 1, 'g2': 1, 'bread,': 1, 'g2espos!': 1, 'westwin': 1, 'g2win': 1, 'c9win!': 1, 'fionnonfire:': 1, 'ig': 1, 'first': 1, 'non-uzi': 1, 'chinese': 1, 'make': 1, 'final': 1, 'big': 1, 'accomplishment': 1, 'official_ljl:': 1, '【': 1, 'semi': 1, 'finals特集記事】': 1, '「勝利まであと一歩」': 1, 'https://t.co/ywexud9cpx': 1, '歴史の1ページに名を残すべく、幾多の困難を乗り越えて勝ち上がってきた4チーム。しかし王座は常にひとつだけ。残り…': 1, 'predatorgaming:': 1, 'tweet': 1, 'fncwin': 1, 'semifinals': 1, 'could': 1, 'legendary': 1, 'pulsefire': 1, 'caitlyn': 1, 'skin…': 1, 'igwin!': 1, 'invgaming': 1, 'sweep': 1, 'series': 1, 'g2espos': 1, 'secure': 1, 'spot': 1, 'final!': 1, 'https://t.co/ij…': 1, 'espn_espos:': 1, 'theshy': 1, 'would': 1, 'stopped': 1, 'g2.': 1}\n",
            "{'👟': 7, 'cloud9:': 4, 'help': 3, 'c9win': 3, 'lolespos:': 3, 'suppo': 3, 'team': 3, 'win': 3, 'less': 2, '8': 2}\n"
          ],
          "name": "stdout"
        }
      ]
    },
    {
      "metadata": {
        "id": "9GuzdbznSRRa",
        "colab_type": "text"
      },
      "cell_type": "markdown",
      "source": [
        "#### Representacion en Graficas"
      ]
    },
    {
      "metadata": {
        "id": "Z0nBGUKGVWHK",
        "colab_type": "code",
        "colab": {
          "base_uri": "https://localhost:8080/",
          "height": 379
        },
        "outputId": "4c643e3b-fe8f-43ca-a7b3-efd3ab77fdd8"
      },
      "cell_type": "code",
      "source": [
        "plt.bar(keys3.keys(), keys3.values(), color='b')\n",
        "plt.title(\"Palabras Mas Comunes\")"
      ],
      "execution_count": 111,
      "outputs": [
        {
          "output_type": "execute_result",
          "data": {
            "text/plain": [
              "Text(0.5,1,'Palabras Mas Comunes')"
            ]
          },
          "metadata": {
            "tags": []
          },
          "execution_count": 111
        },
        {
          "output_type": "display_data",
          "data": {
            "image/png": "[encoded data removed]",
            "text/plain": [
              "<matplotlib.figure.Figure at 0x7f9c6c4d0c18>"
            ]
          },
          "metadata": {
            "tags": []
          }
        }
      ]
    },
    {
      "metadata": {
        "id": "vrnxYKQJSRaX",
        "colab_type": "text"
      },
      "cell_type": "markdown",
      "source": [
        "## Conclusiones Problema 3\n",
        "Se puede observar que la mayoria de fans estan a favor de cloud9 que es un equipo que proviene de USA"
      ]
    }
  ]
}